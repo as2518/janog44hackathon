{
 "cells": [
  {
   "cell_type": "markdown",
   "metadata": {},
   "source": [
    "# NMAPのInventoryモジュールの改良版でSNMP(161)ポートを自動ディスカバリして、snmp_factで機器の基本情報を自動収集して、ベンダーごとに情報を分別する"
   ]
  },
  {
   "cell_type": "code",
   "execution_count": null,
   "metadata": {},
   "outputs": [],
   "source": [
    "#ansible.cfg\n",
    "[defaults]\n",
    "host_key_checking = False\n",
    "#vault_password_file = ~/.rhv/vault-secret\n",
    "fact_caching = yaml\n",
    "fact_caching_connection = ./ansible_facts\n",
    "cache_timeout = 3600\n",
    "\n",
    "[inventory]\n",
    "cache = yes\n",
    "cache_connection = ./ansible_inventory\n",
    "enable_plugins = nmap, advanced_host_list, yaml, ini"
   ]
  },
  {
   "cell_type": "markdown",
   "metadata": {},
   "source": [
    "## addressでnmapしたいアドレスレンジを指定する"
   ]
  },
  {
   "cell_type": "code",
   "execution_count": null,
   "metadata": {},
   "outputs": [],
   "source": [
    "#inventory\n",
    "plugin: nmap\n",
    "strict: True\n",
    "address: XXX.XXX.XXX.XXX/ZZ\n",
    "exclude: \n",
    " - XXX.XXX.XXX.XXZ"
   ]
  },
  {
   "cell_type": "code",
   "execution_count": null,
   "metadata": {},
   "outputs": [],
   "source": [
    "#play\n",
    "name: nmap inventory plugin\n",
    "hosts: all\n",
    "gather_facts: false\n",
    "connection: local"
   ]
  },
  {
   "cell_type": "code",
   "execution_count": null,
   "metadata": {},
   "outputs": [],
   "source": [
    "#task\n",
    "snmp_facts:\n",
    "  host: \"{{ item.value.ip }}\"\n",
    "  version: v2c\n",
    "  community: XXXX\n",
    "with_dict: \"{{ hostvars }}\"\n",
    "register: result"
   ]
  },
  {
   "cell_type": "code",
   "execution_count": null,
   "metadata": {},
   "outputs": [],
   "source": [
    "#task\n",
    "set_fact:\n",
    "  snmplist: \"{{ result | json_query(query) }}\"\n",
    "vars:\n",
    "  query: \"results[].ansible_facts\"\n",
    "register: snmplist\n",
    "run_once: true"
   ]
  },
  {
   "cell_type": "code",
   "execution_count": null,
   "metadata": {
    "scrolled": false
   },
   "outputs": [],
   "source": [
    "#task\n",
    "set_fact:\n",
    "  snmpresult: \"{{ result | json_query(query) }}\"\n",
    "vars: \n",
    "  query: \"results[].ansible_facts[][ansible_all_ipv4_addresses[?@ == `{{ inventory_hostname }}` ] | [0], ansible_sysobjectid]\"\n",
    "  "
   ]
  },
  {
   "cell_type": "code",
   "execution_count": null,
   "metadata": {},
   "outputs": [],
   "source": [
    "#task\n",
    "name: Execute Show command for Junos\n",
    "cli_command:\n",
    "  command: show chassis hardware\n",
    "vars:\n",
    "  ansible_connection: network_cli\n",
    "  ansible_network_os: junos\n",
    "  ansible_user: admin\n",
    "  ansible_ssh_pass: admin\n",
    "when: ( not item.0 == None ) and (\"1.3.6.1.4.1.2636\" in item.1 )\n",
    "with_list: \"{{ snmpresult }}\"\n",
    "register: junos"
   ]
  },
  {
   "cell_type": "code",
   "execution_count": null,
   "metadata": {},
   "outputs": [],
   "source": [
    "#task\n",
    "name: Execute Show command for IOSXR\n",
    "cli_command:\n",
    "  command: show inventory\n",
    "vars:\n",
    "  ansible_connection: network_cli\n",
    "  ansible_network_os: iosxr\n",
    "  ansible_user: admin\n",
    "  ansible_ssh_pass: admin\n",
    "when: ( not item.0 == None ) and (\"1.3.6.1.4.1.9\" in item.1 )\n",
    "with_list: \"{{ snmpresult }}\"\n",
    "register: iosxr"
   ]
  },
  {
   "cell_type": "code",
   "execution_count": null,
   "metadata": {},
   "outputs": [],
   "source": [
    "#task\n",
    "set_fact:\n",
    "  junos_show: \"{{  junos | json_query(query) | parse_cli_textfsm('/home/notebook/notebooks/ntc-templates/templates/juniper_junos_show_chassis_hardware.template')  }}\"\n",
    "vars: \n",
    "  query: \"results[].stdout | [0]\""
   ]
  },
  {
   "cell_type": "code",
   "execution_count": null,
   "metadata": {},
   "outputs": [],
   "source": [
    "#task\n",
    "set_fact:\n",
    "  iosxr_show: \"{{  iosxr | json_query(query) | parse_cli_textfsm('/home/notebook/notebooks/ntc-templates/templates/cisco_ios_show_inventory.template')  }}\"\n",
    "vars: \n",
    "  query: \"results[].stdout | [0]\""
   ]
  },
  {
   "cell_type": "code",
   "execution_count": null,
   "metadata": {},
   "outputs": [],
   "source": [
    "#task\n",
    "name: Execute Show command for Arista\n",
    "cli_command:\n",
    "  command: show inventory\n",
    "vars:\n",
    "  ansible_connection: network_cli\n",
    "  ansible_network_os: eos\n",
    "  ansible_user: admin\n",
    "  ansible_ssh_pass: admin\n",
    "when: ( not item.0 == None ) and (\"1.3.6.1.4.1.30065\" in item.1 )\n",
    "with_list: \"{{ snmpresult }}\"\n",
    "register: arista"
   ]
  },
  {
   "cell_type": "code",
   "execution_count": null,
   "metadata": {},
   "outputs": [],
   "source": []
  }
 ],
 "metadata": {
  "kernelspec": {
   "display_name": "Ansible",
   "language": "ansible",
   "name": "ansible"
  },
  "language_info": {
   "codemirror_mode": "yaml",
   "file_extension": ".yml",
   "mimetype": "text/yaml",
   "name": "ansible"
  }
 },
 "nbformat": 4,
 "nbformat_minor": 2
}
